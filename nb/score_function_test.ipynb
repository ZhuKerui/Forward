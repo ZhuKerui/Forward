{
 "cells": [
  {
   "cell_type": "code",
   "execution_count": null,
   "metadata": {},
   "outputs": [],
   "source": [
    "import pandas as pd\n",
    "import random\n",
    "from collections import Counter"
   ]
  },
  {
   "cell_type": "code",
   "execution_count": null,
   "metadata": {},
   "outputs": [],
   "source": [
    "# Some constants\n",
    "pos_dataset_file = '../data/corpus/pos_dataset.csv'\n",
    "neg_dataset_file = '../data/corpus/neg_dataset.csv'\n",
    "overall_table_file = '../data/corpus/overall_table.csv'\n",
    "entity_file = '../data/corpus/entity.txt'"
   ]
  },
  {
   "cell_type": "code",
   "execution_count": null,
   "metadata": {},
   "outputs": [],
   "source": [
    "# pos_df = pd.read_csv(pos_dataset_file)\n",
    "# neg_df = pd.read_csv(neg_dataset_file)\n",
    "# pos_df['len'] = pos_df.apply(lambda row: len(row['path'].split()), axis=1)\n",
    "# neg_df['len'] = neg_df.apply(lambda row: len(row['path'].split()), axis=1)\n",
    "df = pd.read_csv(overall_table_file)"
   ]
  },
  {
   "cell_type": "code",
   "execution_count": null,
   "metadata": {},
   "outputs": [],
   "source": [
    "df.head()"
   ]
  },
  {
   "cell_type": "code",
   "execution_count": null,
   "metadata": {},
   "outputs": [],
   "source": [
    "# Path check\n",
    "sub_df = df[df['dep_path'] == 'compound'][:100]"
   ]
  },
  {
   "cell_type": "code",
   "execution_count": null,
   "metadata": {},
   "outputs": [],
   "source": [
    "sub_df.head()"
   ]
  },
  {
   "cell_type": "code",
   "execution_count": null,
   "metadata": {},
   "outputs": [],
   "source": [
    "entity = open(entity_file).read().split('\\n')"
   ]
  },
  {
   "cell_type": "code",
   "execution_count": null,
   "metadata": {},
   "outputs": [],
   "source": [
    "entity[14652]"
   ]
  },
  {
   "cell_type": "code",
   "execution_count": null,
   "metadata": {},
   "outputs": [],
   "source": [
    "import networkx as nx\n",
    "import matplotlib.pyplot as plt\n",
    "import spacy\n",
    "nlp = spacy.load('en_core_web_sm')"
   ]
  },
  {
   "cell_type": "code",
   "execution_count": null,
   "metadata": {},
   "outputs": [],
   "source": [
    "def build_dep_matrix(sent:str):\n",
    "    doc = nlp(sent)\n",
    "    noun_chunks_text = [span.text for span in doc.noun_chunks]\n",
    "    noun_chunks_idx = [span[-1].i for span in doc.noun_chunks]\n",
    "    tree = nx.DiGraph()\n",
    "    for i in range(len(noun_chunks_idx)):\n",
    "        tree.add_node(noun_chunks_idx[i], t=noun_chunks_text[i])\n",
    "    for i in noun_chunks_idx:\n",
    "        pointer = i\n",
    "        while doc[pointer].dep_ != 'ROOT':\n",
    "            parent = doc[pointer].head\n",
    "            if not tree.has_node(parent.i):\n",
    "                tree.add_node(parent.i, t=parent.text)\n",
    "            tree.add_edge(parent.i, pointer)\n",
    "            pointer = parent.i\n",
    "    labels = nx.get_node_attributes(tree, 't')\n",
    "    nx.draw_networkx(tree, with_labels=True, labels=labels)\n",
    "    plt.show()"
   ]
  },
  {
   "cell_type": "code",
   "execution_count": null,
   "metadata": {},
   "outputs": [],
   "source": [
    "build_dep_matrix('Python is an interpreted high-level general-purpose programming language .')"
   ]
  }
 ],
 "metadata": {
  "interpreter": {
   "hash": "947ccf1d8baae4b0b3c7136017192ad9c9ad48a2268b8759d45f6c7f995c7f83"
  },
  "kernelspec": {
   "display_name": "Python 3.6.9 64-bit ('imojie_env': virtualenvwrapper)",
   "name": "python3"
  },
  "language_info": {
   "codemirror_mode": {
    "name": "ipython",
    "version": 3
   },
   "file_extension": ".py",
   "mimetype": "text/x-python",
   "name": "python",
   "nbconvert_exporter": "python",
   "pygments_lexer": "ipython3",
   "version": "3.6.9"
  },
  "orig_nbformat": 4
 },
 "nbformat": 4,
 "nbformat_minor": 2
}