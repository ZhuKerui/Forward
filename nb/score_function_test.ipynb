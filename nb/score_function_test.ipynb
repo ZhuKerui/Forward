{
 "cells": [
  {
   "cell_type": "code",
   "execution_count": 30,
   "metadata": {},
   "outputs": [],
   "source": [
    "import pandas as pd\n",
    "import random\n",
    "from collections import Counter"
   ]
  },
  {
   "cell_type": "code",
   "execution_count": 31,
   "metadata": {},
   "outputs": [],
   "source": [
    "# Some constants\n",
    "pos_dataset_file = '../data/corpus/pos_dataset.csv'\n",
    "neg_dataset_file = '../data/corpus/neg_dataset.csv'\n",
    "overall_table_file = '../data/corpus/overall_table.csv'\n",
    "entity_file = '../data/corpus/entity.txt'"
   ]
  },
  {
   "cell_type": "code",
   "execution_count": 21,
   "metadata": {},
   "outputs": [],
   "source": [
    "# pos_df = pd.read_csv(pos_dataset_file)\n",
    "# neg_df = pd.read_csv(neg_dataset_file)\n",
    "# pos_df['len'] = pos_df.apply(lambda row: len(row['path'].split()), axis=1)\n",
    "# neg_df['len'] = neg_df.apply(lambda row: len(row['path'].split()), axis=1)\n",
    "df = pd.read_csv(overall_table_file)"
   ]
  },
  {
   "cell_type": "code",
   "execution_count": 22,
   "metadata": {},
   "outputs": [
    {
     "data": {
      "text/html": [
       "<div>\n",
       "<style scoped>\n",
       "    .dataframe tbody tr th:only-of-type {\n",
       "        vertical-align: middle;\n",
       "    }\n",
       "\n",
       "    .dataframe tbody tr th {\n",
       "        vertical-align: top;\n",
       "    }\n",
       "\n",
       "    .dataframe thead th {\n",
       "        text-align: right;\n",
       "    }\n",
       "</style>\n",
       "<table border=\"1\" class=\"dataframe\">\n",
       "  <thead>\n",
       "    <tr style=\"text-align: right;\">\n",
       "      <th></th>\n",
       "      <th>sent_id</th>\n",
       "      <th>sent_len</th>\n",
       "      <th>head_kw_id</th>\n",
       "      <th>tail_kw_id</th>\n",
       "      <th>dep_path</th>\n",
       "      <th>npmi</th>\n",
       "      <th>kw_dist</th>\n",
       "    </tr>\n",
       "  </thead>\n",
       "  <tbody>\n",
       "    <tr>\n",
       "      <th>0</th>\n",
       "      <td>0</td>\n",
       "      <td>13</td>\n",
       "      <td>530</td>\n",
       "      <td>211</td>\n",
       "      <td>conj</td>\n",
       "      <td>0.192697</td>\n",
       "      <td>2</td>\n",
       "    </tr>\n",
       "    <tr>\n",
       "      <th>1</th>\n",
       "      <td>0</td>\n",
       "      <td>13</td>\n",
       "      <td>530</td>\n",
       "      <td>211</td>\n",
       "      <td>i_conj</td>\n",
       "      <td>0.192697</td>\n",
       "      <td>2</td>\n",
       "    </tr>\n",
       "    <tr>\n",
       "      <th>2</th>\n",
       "      <td>0</td>\n",
       "      <td>13</td>\n",
       "      <td>530</td>\n",
       "      <td>13405</td>\n",
       "      <td>i_pobj i_prep</td>\n",
       "      <td>0.278913</td>\n",
       "      <td>2</td>\n",
       "    </tr>\n",
       "    <tr>\n",
       "      <th>3</th>\n",
       "      <td>0</td>\n",
       "      <td>13</td>\n",
       "      <td>530</td>\n",
       "      <td>13405</td>\n",
       "      <td>pobj prep</td>\n",
       "      <td>0.278913</td>\n",
       "      <td>2</td>\n",
       "    </tr>\n",
       "    <tr>\n",
       "      <th>4</th>\n",
       "      <td>0</td>\n",
       "      <td>13</td>\n",
       "      <td>530</td>\n",
       "      <td>58743</td>\n",
       "      <td>prep pobj</td>\n",
       "      <td>0.128319</td>\n",
       "      <td>5</td>\n",
       "    </tr>\n",
       "  </tbody>\n",
       "</table>\n",
       "</div>"
      ],
      "text/plain": [
       "   sent_id  sent_len  head_kw_id  tail_kw_id       dep_path      npmi  kw_dist\n",
       "0        0        13         530         211           conj  0.192697        2\n",
       "1        0        13         530         211         i_conj  0.192697        2\n",
       "2        0        13         530       13405  i_pobj i_prep  0.278913        2\n",
       "3        0        13         530       13405      pobj prep  0.278913        2\n",
       "4        0        13         530       58743      prep pobj  0.128319        5"
      ]
     },
     "execution_count": 22,
     "metadata": {},
     "output_type": "execute_result"
    }
   ],
   "source": [
    "df.head()"
   ]
  },
  {
   "cell_type": "code",
   "execution_count": 23,
   "metadata": {},
   "outputs": [],
   "source": [
    "# Path check\n",
    "sub_df = df[df['dep_path'] == 'compound'][:100]"
   ]
  },
  {
   "cell_type": "code",
   "execution_count": 24,
   "metadata": {},
   "outputs": [
    {
     "data": {
      "text/html": [
       "<div>\n",
       "<style scoped>\n",
       "    .dataframe tbody tr th:only-of-type {\n",
       "        vertical-align: middle;\n",
       "    }\n",
       "\n",
       "    .dataframe tbody tr th {\n",
       "        vertical-align: top;\n",
       "    }\n",
       "\n",
       "    .dataframe thead th {\n",
       "        text-align: right;\n",
       "    }\n",
       "</style>\n",
       "<table border=\"1\" class=\"dataframe\">\n",
       "  <thead>\n",
       "    <tr style=\"text-align: right;\">\n",
       "      <th></th>\n",
       "      <th>sent_id</th>\n",
       "      <th>sent_len</th>\n",
       "      <th>head_kw_id</th>\n",
       "      <th>tail_kw_id</th>\n",
       "      <th>dep_path</th>\n",
       "      <th>npmi</th>\n",
       "      <th>kw_dist</th>\n",
       "    </tr>\n",
       "  </thead>\n",
       "  <tbody>\n",
       "    <tr>\n",
       "      <th>115</th>\n",
       "      <td>2</td>\n",
       "      <td>51</td>\n",
       "      <td>9484</td>\n",
       "      <td>1616</td>\n",
       "      <td>compound</td>\n",
       "      <td>0.127813</td>\n",
       "      <td>1</td>\n",
       "    </tr>\n",
       "    <tr>\n",
       "      <th>208</th>\n",
       "      <td>3</td>\n",
       "      <td>16</td>\n",
       "      <td>40488</td>\n",
       "      <td>57322</td>\n",
       "      <td>compound</td>\n",
       "      <td>0.414777</td>\n",
       "      <td>1</td>\n",
       "    </tr>\n",
       "    <tr>\n",
       "      <th>235</th>\n",
       "      <td>4</td>\n",
       "      <td>32</td>\n",
       "      <td>6690</td>\n",
       "      <td>15163</td>\n",
       "      <td>compound</td>\n",
       "      <td>0.038545</td>\n",
       "      <td>1</td>\n",
       "    </tr>\n",
       "    <tr>\n",
       "      <th>273</th>\n",
       "      <td>4</td>\n",
       "      <td>32</td>\n",
       "      <td>41774</td>\n",
       "      <td>6580</td>\n",
       "      <td>compound</td>\n",
       "      <td>0.217129</td>\n",
       "      <td>1</td>\n",
       "    </tr>\n",
       "    <tr>\n",
       "      <th>303</th>\n",
       "      <td>4</td>\n",
       "      <td>32</td>\n",
       "      <td>6580</td>\n",
       "      <td>14652</td>\n",
       "      <td>compound</td>\n",
       "      <td>0.136663</td>\n",
       "      <td>1</td>\n",
       "    </tr>\n",
       "  </tbody>\n",
       "</table>\n",
       "</div>"
      ],
      "text/plain": [
       "     sent_id  sent_len  head_kw_id  tail_kw_id  dep_path      npmi  kw_dist\n",
       "115        2        51        9484        1616  compound  0.127813        1\n",
       "208        3        16       40488       57322  compound  0.414777        1\n",
       "235        4        32        6690       15163  compound  0.038545        1\n",
       "273        4        32       41774        6580  compound  0.217129        1\n",
       "303        4        32        6580       14652  compound  0.136663        1"
      ]
     },
     "execution_count": 24,
     "metadata": {},
     "output_type": "execute_result"
    }
   ],
   "source": [
    "sub_df.head()"
   ]
  },
  {
   "cell_type": "code",
   "execution_count": 25,
   "metadata": {},
   "outputs": [],
   "source": [
    "entity = open(entity_file).read().split('\\n')"
   ]
  },
  {
   "cell_type": "code",
   "execution_count": 26,
   "metadata": {},
   "outputs": [
    {
     "data": {
      "text/plain": [
       "'operator'"
      ]
     },
     "execution_count": 26,
     "metadata": {},
     "output_type": "execute_result"
    }
   ],
   "source": [
    "entity[14652]"
   ]
  },
  {
   "cell_type": "code",
   "execution_count": 27,
   "metadata": {},
   "outputs": [],
   "source": [
    "import networkx as nx\n",
    "import matplotlib.pyplot as plt\n",
    "import numpy as np\n",
    "import pandas as pd\n",
    "import spacy\n",
    "from typing import Dict, List\n",
    "nlp = spacy.load('en_core_web_sm')"
   ]
  },
  {
   "cell_type": "code",
   "execution_count": 28,
   "metadata": {},
   "outputs": [],
   "source": [
    "def build_dep_graph(sent:str):\n",
    "    doc = nlp(sent)\n",
    "    noun_chunks_text = [span.text for span in doc.noun_chunks]\n",
    "    noun_chunks_idx = [span[-1].i for span in doc.noun_chunks]\n",
    "    tree = nx.DiGraph()\n",
    "    for i in range(len(noun_chunks_idx)):\n",
    "        tree.add_node(noun_chunks_idx[i], t=noun_chunks_text[i])\n",
    "    for i in noun_chunks_idx:\n",
    "        pointer = i\n",
    "        while doc[pointer].dep_ != 'ROOT':\n",
    "            parent = doc[pointer].head\n",
    "            if not tree.has_node(parent.i):\n",
    "                tree.add_node(parent.i, t=parent.text)\n",
    "            tree.add_edge(parent.i, pointer)\n",
    "            pointer = parent.i\n",
    "    return tree, noun_chunks_idx, noun_chunks_text\n",
    "\n",
    "def show_graph(g:nx.DiGraph):\n",
    "    labels = nx.get_node_attributes(g, 't')\n",
    "    # nx.draw_networkx(tree, with_labels=True, labels=labels)\n",
    "    nx.draw_networkx(g, with_labels=True)\n",
    "    plt.figure(figsize=(24, 24))\n",
    "    plt.show()\n"
   ]
  },
  {
   "cell_type": "code",
   "execution_count": 32,
   "metadata": {},
   "outputs": [],
   "source": [
    "sent = 'Lucille Clifton, whom he married in 1958, was born in 1936.'\n",
    "g, noun_chunks_idx, noun_chunks_text = build_dep_graph(sent)"
   ]
  },
  {
   "cell_type": "code",
   "execution_count": 15,
   "metadata": {},
   "outputs": [],
   "source": [
    "def cal_matrix(g:nx.DiGraph):\n",
    "    node_num = len(g.nodes)\n",
    "    P = np.zeros((node_num, node_num))\n",
    "    node2idx = {node : i for i, node in enumerate(g.nodes)}\n",
    "    for node in g.nodes:\n",
    "        in_degree, out_degree = g.in_degree(node), g.out_degree(node)\n",
    "        weight_sum = (in_degree * 0.5) + (out_degree * 1)\n",
    "        for neighbor in g.neighbors(node):\n",
    "            P[node2idx[node], node2idx[neighbor]] = 1. / weight_sum\n",
    "        for pre in g.predecessors(node):\n",
    "            P[node2idx[node], node2idx[pre]] = 0.5 / weight_sum\n",
    "    A = np.append(np.transpose(P) - np.identity(node_num), [[1] * node_num], axis=0)\n",
    "    b = np.transpose(np.array(([0] * node_num) + [1]))\n",
    "    pi = np.linalg.solve(np.transpose(A).dot(A), np.transpose(A).dot(b))\n",
    "    D = np.diag(pi)\n",
    "    E = np.ones((node_num, node_num))\n",
    "    Z = np.linalg.inv(np.identity(node_num) - P + E.dot(D)) - E.dot(D)\n",
    "    M = - (Z - Z.diagonal()) / pi\n",
    "    return M, node2idx"
   ]
  },
  {
   "cell_type": "code",
   "execution_count": 33,
   "metadata": {},
   "outputs": [],
   "source": [
    "M, node2idx = cal_matrix(g)"
   ]
  },
  {
   "cell_type": "code",
   "execution_count": 12,
   "metadata": {},
   "outputs": [],
   "source": [
    "def get_entity_matrix(M:np.ndarray, node2idx:Dict, noun_chunks_idx:List[int]):\n",
    "    noun_chunks_set = set([node2idx[i] for i in noun_chunks_idx])\n",
    "    mask = np.array([i in noun_chunks_set for i in range(len(M))], dtype=np.bool)\n",
    "    return (M[mask].T)[mask].T\n",
    "\n",
    "def get_act_matrix(m:np.ndarray):\n",
    "    return m + m.T\n",
    "\n",
    "def get_summary_table(m:np.ndarray, noun_chunks_text:List[str]):\n",
    "    df = pd.DataFrame(m, columns = noun_chunks_text)\n",
    "    df['_'] = noun_chunks_text\n",
    "    return df"
   ]
  },
  {
   "cell_type": "code",
   "execution_count": 34,
   "metadata": {},
   "outputs": [
    {
     "name": "stdout",
     "output_type": "stream",
     "text": [
      "Lucille Clifton, whom he married in 1958, was born in 1936.\n"
     ]
    },
    {
     "data": {
      "text/html": [
       "<div>\n",
       "<style scoped>\n",
       "    .dataframe tbody tr th:only-of-type {\n",
       "        vertical-align: middle;\n",
       "    }\n",
       "\n",
       "    .dataframe tbody tr th {\n",
       "        vertical-align: top;\n",
       "    }\n",
       "\n",
       "    .dataframe thead th {\n",
       "        text-align: right;\n",
       "    }\n",
       "</style>\n",
       "<table border=\"1\" class=\"dataframe\">\n",
       "  <thead>\n",
       "    <tr style=\"text-align: right;\">\n",
       "      <th></th>\n",
       "      <th>Lucille Clifton</th>\n",
       "      <th>whom</th>\n",
       "      <th>he</th>\n",
       "      <th>_</th>\n",
       "    </tr>\n",
       "  </thead>\n",
       "  <tbody>\n",
       "    <tr>\n",
       "      <th>0</th>\n",
       "      <td>-0.0</td>\n",
       "      <td>16.5</td>\n",
       "      <td>16.5</td>\n",
       "      <td>Lucille Clifton</td>\n",
       "    </tr>\n",
       "    <tr>\n",
       "      <th>1</th>\n",
       "      <td>16.5</td>\n",
       "      <td>-0.0</td>\n",
       "      <td>11.0</td>\n",
       "      <td>whom</td>\n",
       "    </tr>\n",
       "    <tr>\n",
       "      <th>2</th>\n",
       "      <td>16.5</td>\n",
       "      <td>11.0</td>\n",
       "      <td>-0.0</td>\n",
       "      <td>he</td>\n",
       "    </tr>\n",
       "  </tbody>\n",
       "</table>\n",
       "</div>"
      ],
      "text/plain": [
       "   Lucille Clifton  whom    he                _\n",
       "0             -0.0  16.5  16.5  Lucille Clifton\n",
       "1             16.5  -0.0  11.0             whom\n",
       "2             16.5  11.0  -0.0               he"
      ]
     },
     "execution_count": 34,
     "metadata": {},
     "output_type": "execute_result"
    }
   ],
   "source": [
    "m = get_entity_matrix(M, node2idx=node2idx, noun_chunks_idx=noun_chunks_idx)\n",
    "m = get_act_matrix(m)\n",
    "print(sent)\n",
    "get_summary_table(m, noun_chunks_text)"
   ]
  },
  {
   "cell_type": "code",
   "execution_count": 11,
   "metadata": {},
   "outputs": [
    {
     "data": {
      "image/png": "[encoded data removed]",
      "text/plain": [
       "<Figure size 432x288 with 1 Axes>"
      ]
     },
     "metadata": {},
     "output_type": "display_data"
    },
    {
     "data": {
      "text/plain": [
       "<Figure size 1728x1728 with 0 Axes>"
      ]
     },
     "metadata": {},
     "output_type": "display_data"
    },
    {
     "name": "stdout",
     "output_type": "stream",
     "text": [
      "2: the basic idea\n",
      "8: a local_interaction rule\n",
      "10: agent\n",
      "14: their state_trajectory\n",
      "17: a linear_combination\n",
      "19: sinusoid\n",
      "24: frequency function\n",
      "27: the eigenvalue\n",
      "30: the laplacian_matrix\n"
     ]
    }
   ],
   "source": [
    "show_graph(g)\n",
    "for i in range(len(noun_chunks_idx)):\n",
    "    print('%d: %s' % (noun_chunks_idx[i], noun_chunks_text[i]))"
   ]
  }
 ],
 "metadata": {
  "interpreter": {
   "hash": "947ccf1d8baae4b0b3c7136017192ad9c9ad48a2268b8759d45f6c7f995c7f83"
  },
  "kernelspec": {
   "display_name": "Python 3.6.9 64-bit ('imojie_env': virtualenvwrapper)",
   "name": "python3"
  },
  "language_info": {
   "codemirror_mode": {
    "name": "ipython",
    "version": 3
   },
   "file_extension": ".py",
   "mimetype": "text/x-python",
   "name": "python",
   "nbconvert_exporter": "python",
   "pygments_lexer": "ipython3",
   "version": "3.6.9"
  },
  "orig_nbformat": 4
 },
 "nbformat": 4,
 "nbformat_minor": 2
}