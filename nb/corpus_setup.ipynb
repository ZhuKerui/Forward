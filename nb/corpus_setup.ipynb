{
 "cells": [
  {
   "cell_type": "code",
   "execution_count": null,
   "source": [
    "import json\n",
    "import sys\n",
    "\n",
    "sys.path.append('..')\n",
    "from tools.TextProcessing import build_word_tree, process_keywords, batched_sent_tokenize, clean_text\n",
    "from tools.BasicUtils import my_write, my_csv_read, MultiThreading, get_wikipedia_entity"
   ],
   "outputs": [],
   "metadata": {}
  },
  {
   "cell_type": "markdown",
   "source": [
    "<h2> Select keyword file and generate keyword list"
   ],
   "metadata": {}
  },
  {
   "cell_type": "code",
   "execution_count": null,
   "source": [
    "# Collect keywords from terms-cs-cfl-epoch200.txt\n",
    "stable_kw = []\n",
    "unstable_kw = []\n",
    "r = my_csv_read('../data/raw_data/terms-cs-cfl-epoch200.txt', delimiter='\\t')\n",
    "candidate_kw_list = [item[0] for item in r if float(item[1]) > 0.1 and item[2] == '1']\n",
    "stable_kw, unstable_kw = process_keywords(candidate_kw_list)"
   ],
   "outputs": [],
   "metadata": {}
  },
  {
   "cell_type": "markdown",
   "source": [
    "<h2> Bind word with wikipedia page"
   ],
   "metadata": {}
  },
  {
   "cell_type": "code",
   "execution_count": null,
   "source": [
    "# Collect keywords that can be linked to a wikipedia page (11 minutes)\n",
    "mt = MultiThreading()\n",
    "ret = mt.run(lambda x: (x, get_wikipedia_entity(x)), stable_kw, thread_num=10)\n",
    "kw2ent_dict = {item[0]:item[1] for item in ret if item[1] is not None}\n",
    "json.dump(kw2ent_dict, open('../data/corpus/kw_ent_map.json', 'w'))\n",
    "final_keywords = list(kw2ent_dict.keys())"
   ],
   "outputs": [],
   "metadata": {}
  },
  {
   "cell_type": "markdown",
   "source": [
    "<h2> Store the keyword list and build word tree"
   ],
   "metadata": {}
  },
  {
   "cell_type": "code",
   "execution_count": null,
   "source": [
    "# Save keywords\n",
    "my_write('../data/corpus/keyword_f.txt', final_keywords)\n",
    "# Generate word tree (25 seconds)\n",
    "build_word_tree('../data/corpus/keyword_f.txt', '../data/corpus/wordtree.json', '../data/corpus/entity.txt')"
   ],
   "outputs": [],
   "metadata": {}
  },
  {
   "cell_type": "markdown",
   "source": [
    "<h2> Process sentences"
   ],
   "metadata": {}
  },
  {
   "cell_type": "code",
   "execution_count": null,
   "source": [
    "# Extract sentence from small corpus (2 minute)\n",
    "j = json.load(open('../data/raw_data/small_arxiv.json', 'r'))\n",
    "sents = [clean_text(i['abstract']) for i in j]\n",
    "sents = batched_sent_tokenize(sents)\n",
    "my_write('../data/corpus/small_sent.txt', sents)"
   ],
   "outputs": [],
   "metadata": {}
  },
  {
   "cell_type": "code",
   "execution_count": null,
   "source": [
    "# Generate Reformed sentences (3 minutes)\n",
    "# To run the code in the backend, use the gen_reform.py in the \"py\" folder"
   ],
   "outputs": [],
   "metadata": {}
  },
  {
   "cell_type": "markdown",
   "source": [
    "<h2> Collect wikipedia pages for keywords"
   ],
   "metadata": {}
  },
  {
   "cell_type": "code",
   "execution_count": null,
   "source": [
    "# To run the code in the backend, use the collect_wiki_page.py in the \"py\" folder"
   ],
   "outputs": [],
   "metadata": {}
  }
 ],
 "metadata": {
  "interpreter": {
   "hash": "24deccfc9cfcdf51c4ee2bca89f156543ccae2e435d3cceed46c01114d4ab00d"
  },
  "kernelspec": {
   "name": "python3",
   "display_name": "Python 3.8.11 64-bit ('forward': venv)"
  },
  "language_info": {
   "name": "python",
   "version": "3.8.11"
  },
  "metadata": {
   "interpreter": {
    "hash": "31f2aee4e71d21fbe5cf8b01ff0e069b9275f58929596ceb00d14d90e3e16cd6"
   }
  },
  "orig_nbformat": 2
 },
 "nbformat": 4,
 "nbformat_minor": 2
}