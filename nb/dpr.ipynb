{
 "cells": [
  {
   "cell_type": "code",
   "execution_count": null,
   "source": [
    "from transformers import BertForSequenceClassification, BertTokenizer"
   ],
   "outputs": [],
   "metadata": {}
  },
  {
   "cell_type": "code",
   "execution_count": null,
   "source": [
    "sent_encoder = BertForSequenceClassification.from_pretrained('bert-base-uncased')\n",
    "pair_encoder = BertForSequenceClassification.from_pretrained('bert-base-uncased')\n",
    "tokenizer = BertTokenizer.from_pretrained('bert-base-uncased')"
   ],
   "outputs": [],
   "metadata": {}
  }
 ],
 "metadata": {
  "orig_nbformat": 4,
  "language_info": {
   "name": "python",
   "version": "3.8.11"
  },
  "kernelspec": {
   "name": "python3",
   "display_name": "Python 3.8.11 64-bit ('forward': virtualenvwrapper)"
  },
  "interpreter": {
   "hash": "24deccfc9cfcdf51c4ee2bca89f156543ccae2e435d3cceed46c01114d4ab00d"
  }
 },
 "nbformat": 4,
 "nbformat_minor": 2
}