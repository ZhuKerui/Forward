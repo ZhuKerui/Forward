{
 "cells": [
  {
   "cell_type": "code",
   "execution_count": 21,
   "metadata": {},
   "outputs": [],
   "source": [
    "import numpy as np\n",
    "import networkx as nx\n",
    "import torch\n",
    "from transformers import BertTokenizer, BertModel\n",
    "from typing import List\n",
    "\n",
    "import sys\n",
    "sys.path.append('..')\n",
    "\n",
    "from tools.BasicUtils import my_read, ugly_normalize, ntopidx"
   ]
  },
  {
   "cell_type": "code",
   "execution_count": 2,
   "metadata": {},
   "outputs": [
    {
     "name": "stderr",
     "output_type": "stream",
     "text": [
      "Some weights of the model checkpoint at bert-base-uncased were not used when initializing BertModel: ['cls.predictions.transform.LayerNorm.weight', 'cls.predictions.transform.dense.bias', 'cls.seq_relationship.weight', 'cls.predictions.transform.dense.weight', 'cls.predictions.transform.LayerNorm.bias', 'cls.predictions.decoder.weight', 'cls.predictions.bias', 'cls.seq_relationship.bias']\n",
      "- This IS expected if you are initializing BertModel from the checkpoint of a model trained on another task or with another architecture (e.g. initializing a BertForSequenceClassification model from a BertForPreTraining model).\n",
      "- This IS NOT expected if you are initializing BertModel from the checkpoint of a model that you expect to be exactly identical (initializing a BertForSequenceClassification model from a BertForSequenceClassification model).\n"
     ]
    }
   ],
   "source": [
    "model = BertModel.from_pretrained('bert-base-uncased')\n",
    "tokenizer = BertTokenizer.from_pretrained('bert-base-uncased')"
   ]
  },
  {
   "cell_type": "code",
   "execution_count": 111,
   "metadata": {},
   "outputs": [
    {
     "data": {
      "text/plain": [
       "243"
      ]
     },
     "execution_count": 111,
     "metadata": {},
     "output_type": "execute_result"
    }
   ],
   "source": [
    "!grep 'python' ../data/corpus/small_sent.txt > temp.txt\n",
    "!grep 'language' temp.txt > all_occurance.txt\n",
    "sent_list = my_read('all_occurance.txt')\n",
    "len(sent_list)"
   ]
  },
  {
   "cell_type": "code",
   "execution_count": 100,
   "metadata": {},
   "outputs": [],
   "source": [
    "def do_pagerank(sents:List[str], tokenizer:torch.nn.Module, model:torch.nn.Module):\n",
    "    with torch.no_grad():\n",
    "        inputs = tokenizer(sents, padding=True, truncation=True, max_length=80, return_tensors='pt')\n",
    "        output = model(**inputs)\n",
    "        sent_emb = output.last_hidden_state[:, 0].numpy()\n",
    "        sent_emb = ugly_normalize(sent_emb)\n",
    "        sim_matrix = np.matmul(sent_emb, sent_emb.T)\n",
    "        sim_matrix[sim_matrix < 0.8] = 0\n",
    "        sim_matrix = (np.identity(len(sim_matrix)) == 0).astype(np.float) * sim_matrix\n",
    "        g = nx.from_numpy_array(sim_matrix)\n",
    "        score = nx.pagerank(g)\n",
    "        temp = sorted(score.items(), key=lambda x: x[1], reverse=True)\n",
    "        idx = [item[0] for item in temp]\n",
    "        return [sents[i] for i in idx], [score[i] for i in idx]"
   ]
  },
  {
   "cell_type": "code",
   "execution_count": 112,
   "metadata": {},
   "outputs": [],
   "source": [
    "sents, score = do_pagerank(sent_list, tokenizer=tokenizer, model=model)"
   ]
  },
  {
   "cell_type": "code",
   "execution_count": 113,
   "metadata": {},
   "outputs": [
    {
     "data": {
      "text/plain": [
       "[0.0053760639168282595,\n",
       " 0.005315701429411255,\n",
       " 0.005296551157213969,\n",
       " 0.0052756499582051145,\n",
       " 0.005273998858462546,\n",
       " 0.005273755070018193,\n",
       " 0.005267510772467619,\n",
       " 0.005247983542732968,\n",
       " 0.00522351554658776,\n",
       " 0.0052232561468676915]"
      ]
     },
     "execution_count": 113,
     "metadata": {},
     "output_type": "execute_result"
    }
   ],
   "source": [
    "score[:10]"
   ]
  },
  {
   "cell_type": "code",
   "execution_count": 114,
   "metadata": {},
   "outputs": [
    {
     "data": {
      "text/plain": [
       "[0.0009729968501772575,\n",
       " 0.000920422077774054,\n",
       " 0.0009097013698826598,\n",
       " 0.0008895110644973206,\n",
       " 0.0006194507536650837]"
      ]
     },
     "execution_count": 114,
     "metadata": {},
     "output_type": "execute_result"
    }
   ],
   "source": [
    "score[-5:]"
   ]
  },
  {
   "cell_type": "code",
   "execution_count": 115,
   "metadata": {},
   "outputs": [
    {
     "data": {
      "text/plain": [
       "['furthermore, no appropriate som package is available with respect to machine learning standards and in the widely used programming language python.',\n",
       " 'we also release implementations of the methods in most major programming languages, wolfram language , matlab, r, perl, python, pascal, c++, and haskell, and a free online algorithmic complexity calculator.',\n",
       " 'netlogo, being the language of choice for a majority of agent - based modeling driven research projects, requires an integration to python for researchers looking to perform statistical analyses of agent - based model output using these libraries.',\n",
       " 'these abstractions can be expressed concisely and clearly by leveraging the dynamism of the underlying python language and the flexibility of the pytorch library.',\n",
       " 'the use of python for parallelization is motivated by the fact that the language is well suited for reusing existing serial codes programmed in other languages.',\n",
       " 'by embedding a domain - specific language within python and making heavy use of sympy, a symbolic mathematics library, we make it possible to develop finite difference simulators quickly using a syntax that strongly resembles the mathematics.',\n",
       " 'additionally, as opfython is a python - based library, it provides a more friendly environment and a faster prototyping workspace than the c language.',\n",
       " 'these transformations are expressed in and used from python and may be applied from a variety of settings, including a pragma - like manner from other languages.',\n",
       " 'however, python and octave are among some of the languages that have challenged matlab.',\n",
       " 'key lessons include that encapsulating the simulation functionality in a library of a general purpose language, here python, provides great flexibility in using the software.']"
      ]
     },
     "execution_count": 115,
     "metadata": {},
     "output_type": "execute_result"
    }
   ],
   "source": [
    "sents[:10]"
   ]
  }
 ],
 "metadata": {
  "interpreter": {
   "hash": "947ccf1d8baae4b0b3c7136017192ad9c9ad48a2268b8759d45f6c7f995c7f83"
  },
  "kernelspec": {
   "display_name": "Python 3.6.9 64-bit ('imojie_env': virtualenvwrapper)",
   "name": "python3"
  },
  "language_info": {
   "codemirror_mode": {
    "name": "ipython",
    "version": 3
   },
   "file_extension": ".py",
   "mimetype": "text/x-python",
   "name": "python",
   "nbconvert_exporter": "python",
   "pygments_lexer": "ipython3",
   "version": "3.6.9"
  },
  "orig_nbformat": 4
 },
 "nbformat": 4,
 "nbformat_minor": 2
}