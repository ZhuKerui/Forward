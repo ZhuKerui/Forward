{
 "cells": [
  {
   "cell_type": "code",
   "execution_count": null,
   "source": [
    "# Uncomment for google drive use\n",
    "# from google.colab import drive\n",
    "# drive.mount('/content/gdrive')\n",
    "# %cd gdrive/MyDrive/Colab\\ Notebooks/Forward/joint_score_func\n",
    "# ! pip install datasets\n",
    "# ! pip install transformers\n",
    "# ! pip install wikipedia"
   ],
   "outputs": [],
   "metadata": {}
  },
  {
   "cell_type": "code",
   "execution_count": 1,
   "source": [
    "import json\n",
    "import csv\n",
    "import os\n",
    "import copy\n",
    "import random\n",
    "import pandas as pd\n",
    "from datasets import load_dataset, Dataset\n",
    "from datasets.dataset_dict import DatasetDict\n",
    "import sys\n",
    "\n",
    "sys.path.append('..')\n",
    "from tools.TextProcessing import build_word_tree, process_keywords, nlp, clean_text\n",
    "from tools.BasicUtils import my_write, my_csv_read, my_read, my_json_read\n",
    "from tools.OpenIEUtils import processed_file_reader"
   ],
   "outputs": [],
   "metadata": {}
  },
  {
   "cell_type": "code",
   "execution_count": null,
   "source": [
    "file_description = [\n",
    "    \"data/keyword_f.txt ---- CS keywords\\n\",\n",
    "    \"data/wordtree.json ---- word tree for cs keywords\\n\",\n",
    "    \"data/entity.txt ---- Reformed cs keywords with '_' replacing ' '\\n\",\n",
    "    \"data/co_occur.txt ---- Each line shows the keywords that appear in that line of sentence\\n\",\n",
    "    \"data/occur.json ---- Tell which lines do each keyword occur\\n\",\n",
    "    \"data/eid2ent.json ---- Mapping from entity id to entity name in wikidata\\n\",\n",
    "    \"data/rid2rel.json ---- Mapping from relation id to relation name in wikidat\\na\"\n",
    "    \"data/kg_cs_triples.csv ---- eid-rid-eid triples with eid be referring to possible cs keywords\\n\",\n",
    "    \"data/kg_dataset.csv ---- ent-rel-ent triples constructed on knowledge graph with each entity pair co-occurs no less than 10 times in small_sent.txt\\n\",\n",
    "    \"data/ollie_pos_dataset.csv ---- data containing triples and sentences with confidence greater than 0.9 in csv form\\n\",\n",
    "    \"data/ollie_pos_dataset.tsv ---- data containing triples and sentences with confidence greater than 0.9\\n\",\n",
    "    \"data/ollie_neg_dataset_1.tsv ---- data containing triples and sentences with confidence less than 0.3\\n\",\n",
    "    \"data/ollie_neg_dataset_2.tsv ---- data containing triples and sentences where no extraction is made\\n\",\n",
    "    \"data/my_dataset.tsv ---- data containing pos, neg_1 and neg_2, splited to train and valid part\\n\",\n",
    "    \"data/single-ollie ---- transformers.dataset style file\\n\"\n",
    "]\n",
    "    \n",
    "my_write('README.md', file_description)"
   ],
   "outputs": [],
   "metadata": {}
  },
  {
   "cell_type": "markdown",
   "source": [
    "<h1> Generate basic keyword file"
   ],
   "metadata": {}
  },
  {
   "cell_type": "code",
   "execution_count": null,
   "source": [
    "# Collect keywords from terms-cs-cfl-epoch200.txt\n",
    "stable_kw = []\n",
    "unstable_kw = []\n",
    "r = my_csv_read('../data/raw_data/terms-cs-cfl-epoch200.txt', delimiter='\\t')\n",
    "candidate_kw_list = [item[0] for item in r if float(item[1]) > 0.1]\n",
    "stable_kw, unstable_kw = process_keywords(candidate_kw_list)\n",
    "# Save keywords\n",
    "if not os.path.exists('data'):\n",
    "    os.mkdir('data')\n",
    "my_write('data/keyword.txt', stable_kw)\n",
    "# Generate word tree (25 seconds)\n",
    "build_word_tree('data/keyword.txt', 'data/wordtree.json', 'data/entity.txt')"
   ],
   "outputs": [],
   "metadata": {}
  },
  {
   "cell_type": "code",
   "execution_count": null,
   "source": [
    "# Go to py folder and run followings in the backend \n",
    "# \"python gen_co_occur.py ../joint_score_func/data/wordtree.json ../data/corpus/small_sent.txt ../joint_score_func/data/co_occur.txt\"\n",
    "# \"python gen_occur.py ../joint_score_func/data/keyword.txt ../joint_score_func/data/co_occur.txt ../joint_score_func/data/occur.json\""
   ],
   "outputs": [],
   "metadata": {}
  },
  {
   "cell_type": "markdown",
   "source": [
    "<h1> Generate dataset using Wikidata knowledge graph"
   ],
   "metadata": {}
  },
  {
   "cell_type": "code",
   "execution_count": null,
   "source": [
    "# Load known cs keywords\n",
    "kw_set = set(my_read('data/keyword.txt'))\n",
    "# Map id to text\n",
    "eid2ent_dict = {eid:ent.lower() for eid, ent in my_csv_read('../data/raw_data/wikidata/entity_names.txt', delimiter='\\t') if ent.lower() in kw_set}\n",
    "rid2rel_dict = {rid:rel.lower() for rid, rel in my_csv_read('../data/raw_data/wikidata/relation_names.txt', delimiter='\\t')}\n",
    "# Get the subgraph that have both entities be potential cs keywords and relation be valid\n",
    "kg_cs_triples = [(eid1, eid2, rid) for eid1, eid2, rid in my_csv_read('../data/raw_data/wikidata/triples.txt', delimiter=' ') if eid1 in eid2ent_dict and eid2 in eid2ent_dict and rid in rid2rel_dict]\n",
    "# Get valid cs entities and relations from subgraph\n",
    "cs_eid_set = set()\n",
    "cs_rid_set = set()\n",
    "for eid1, eid2, rid in kg_cs_triples:\n",
    "    cs_eid_set.update((eid1, eid2))\n",
    "    cs_rid_set.add(rid)\n",
    "eid2ent_dict = {eid:ent for eid, ent in eid2ent_dict.items() if eid in cs_eid_set}\n",
    "rid2rel_dict = {rid:rel for rid, rel in rid2rel_dict.items() if rid in cs_rid_set}\n",
    "# Save files\n",
    "json.dump(eid2ent_dict, open('data/eid2ent.json', 'w'))\n",
    "json.dump(rid2rel_dict, open('data/rid2rel.json', 'w'))\n",
    "csv.writer(open('data/kg_cs_triples.csv', 'w')).writerows(kg_cs_triples)"
   ],
   "outputs": [],
   "metadata": {}
  },
  {
   "cell_type": "code",
   "execution_count": null,
   "source": [
    "# Filter out pairs that have little co-occurance\n",
    "eid2ent_dict = json.load(open('data/eid2ent.json'))\n",
    "rid2rel_dict = json.load(open('data/rid2rel.json'))\n",
    "kg_cs_triples = list(my_csv_read('data/kg_cs_triples.csv', delimiter=','))\n",
    "occur_dict = my_json_read('data/occur.json')\n",
    "occur_dict = {k:set(v) for k, v in occur_dict.items()}\n",
    "acceptable_triple_data = []\n",
    "for eid1, eid2, rid in kg_cs_triples:\n",
    "    ent1, ent2 = eid2ent_dict[eid1], eid2ent_dict[eid2]\n",
    "    if len(occur_dict[ent1] & occur_dict[ent2]) > 10 and rid in rid2rel_dict:\n",
    "        acceptable_triple_data.append((ent1, ent2, rid2rel_dict[rid]))\n",
    "csv.writer(open('data/kg_datasets.csv', 'w')).writerows(acceptable_triple_data)"
   ],
   "outputs": [],
   "metadata": {}
  },
  {
   "cell_type": "markdown",
   "source": [
    "<h1> Generate dataset using public OpenIE training data"
   ],
   "metadata": {}
  },
  {
   "cell_type": "code",
   "execution_count": null,
   "source": [
    "openie_triples = json.load(open('../data/corpus/openie_triples.json'))"
   ],
   "outputs": [],
   "metadata": {}
  },
  {
   "cell_type": "code",
   "execution_count": null,
   "source": [
    "filtered_triples = copy.deepcopy(openie_triples)\n",
    "for item in filtered_triples:\n",
    "    item['triples'] = [tri for tri in item['triples'] if tri[0] >= 0.9]"
   ],
   "outputs": [],
   "metadata": {}
  },
  {
   "cell_type": "code",
   "execution_count": null,
   "source": [
    "filtered_triples[3]"
   ],
   "outputs": [],
   "metadata": {}
  },
  {
   "cell_type": "code",
   "execution_count": null,
   "source": [
    "openie_triples[3]"
   ],
   "outputs": [],
   "metadata": {}
  },
  {
   "cell_type": "markdown",
   "source": [
    "<h1> Generate dataset using Ollie extraction on arxiv corpus"
   ],
   "metadata": {}
  },
  {
   "cell_type": "code",
   "execution_count": null,
   "source": [
    "low_score_list = processed_file_reader('../openie/ollie_test/small_processed_low.txt')\n",
    "high_score_list = processed_file_reader('../openie/ollie_test/small_processed_high.txt')\n",
    "all_score_list = processed_file_reader('../openie/ollie_test/small_processed_all.txt')"
   ],
   "outputs": [],
   "metadata": {}
  },
  {
   "cell_type": "code",
   "execution_count": null,
   "source": [
    "low_score_triple = [item for item in low_score_list if len(item) > 1]\n",
    "high_score_triple = [item for item in high_score_list if len(item) > 1]\n",
    "no_extraction = [item for item in all_score_list if len(item) == 1]\n",
    "print(len(low_score_triple))\n",
    "print(len(high_score_triple))\n",
    "print(len(no_extraction))"
   ],
   "outputs": [],
   "metadata": {}
  },
  {
   "cell_type": "code",
   "execution_count": null,
   "source": [
    "# Generate pos dataset\n",
    "pos_dataset = []\n",
    "for item in high_score_triple:\n",
    "    sent = clean_text(item[0])\n",
    "    for triple in item[1:]:\n",
    "        ent1, rel, ent2 = triple.split(';')\n",
    "        ent1, rel, ent2 = clean_text(ent1), clean_text(rel), clean_text(ent2)\n",
    "        pos_dataset.append({'labels' : 1, 'ent1' : ent1, 'rel' : rel, 'ent2' : ent2, 'sent' : sent})\n",
    "pd.DataFrame(pos_dataset).to_csv('data/ollie_pos_dataset.tsv', index=False, sep='\\t')"
   ],
   "outputs": [],
   "metadata": {}
  },
  {
   "cell_type": "code",
   "execution_count": null,
   "source": [
    "pos_dataset[:4]"
   ],
   "outputs": [],
   "metadata": {}
  },
  {
   "cell_type": "code",
   "execution_count": null,
   "source": [
    "# Generate neg dataset from low score triples\n",
    "neg_dataset_1 = []\n",
    "for item in low_score_triple:\n",
    "    sent = clean_text(item[0])\n",
    "    for triple in item[1:]:\n",
    "        ent1, rel, ent2 = triple.split(';')\n",
    "        ent1, rel, ent2 = clean_text(ent1), clean_text(rel), clean_text(ent2)\n",
    "        neg_dataset_1.append({'labels' : 0, 'ent1' : ent1, 'rel' : rel, 'ent2' : ent2, 'sent' : sent})\n",
    "pd.DataFrame(neg_dataset_1).to_csv('data/ollie_neg_dataset_1.tsv', index=False, sep='\\t')"
   ],
   "outputs": [],
   "metadata": {}
  },
  {
   "cell_type": "code",
   "execution_count": null,
   "source": [
    "neg_dataset_1[:4]"
   ],
   "outputs": [],
   "metadata": {}
  },
  {
   "cell_type": "code",
   "execution_count": null,
   "source": [
    "# Generate neg dataset from no extraction sentences with noun chunks\n",
    "neg_dataset_2 = []\n",
    "for item in no_extraction:\n",
    "    sent = clean_text(item[0])\n",
    "    noun_chunks = list(nlp(sent).noun_chunks)\n",
    "    if len(noun_chunks) <= 1:\n",
    "        continue\n",
    "    ents = random.sample(noun_chunks, 2)\n",
    "    neg_dataset_2.append({'labels' : 0, 'ent1' : str(ents[0]), 'rel' : '_', 'ent2' : str(ents[1]), 'sent' : sent})\n",
    "pd.DataFrame(neg_dataset_2).to_csv('data/ollie_neg_dataset_2.tsv', index=False, sep='\\t')"
   ],
   "outputs": [],
   "metadata": {}
  },
  {
   "cell_type": "code",
   "execution_count": 10,
   "source": [
    "# Forming dataset tsv\n",
    "pos_dataset = pd.read_csv('data/ollie_pos_dataset.tsv', sep='\\t')\n",
    "neg_dataset_1 = pd.read_csv('data/ollie_neg_dataset_1.tsv', sep='\\t')\n",
    "neg_dataset_2 = pd.read_csv('data/ollie_neg_dataset_2.tsv', sep='\\t')\n",
    "dataset = pd.concat([pos_dataset, neg_dataset_1, neg_dataset_2]).sample(frac=1).reset_index(drop=True)\n",
    "dataset.to_csv('data/my_dataset.tsv', index=False, sep='\\t')"
   ],
   "outputs": [],
   "metadata": {}
  },
  {
   "cell_type": "code",
   "execution_count": 11,
   "source": [
    "len(dataset)"
   ],
   "outputs": [
    {
     "output_type": "execute_result",
     "data": {
      "text/plain": [
       "629953"
      ]
     },
     "metadata": {},
     "execution_count": 11
    }
   ],
   "metadata": {}
  },
  {
   "cell_type": "code",
   "execution_count": 12,
   "source": [
    "# Forming dataset in datasets format\n",
    "df = pd.read_csv('data/my_dataset.tsv', sep='\\t')[:20000]\n",
    "temp_dataset = Dataset.from_pandas(df).train_test_split(test_size=0.2)\n",
    "DatasetDict({'train': temp_dataset['train'], 'valid': temp_dataset['test']}).save_to_disk('data/single-ollie')"
   ],
   "outputs": [],
   "metadata": {}
  },
  {
   "cell_type": "code",
   "execution_count": null,
   "source": [
    "# Generate dataset with only pos_dataset\n",
    "df = pd.read_csv('data/ollie_pos_dataset.tsv', sep='\\t')[:20000]\n",
    "pos_only_dataset = Dataset.from_pandas(df)\n",
    "pos_only_dataset = pos_only_dataset.train_test_split(test_size=0.1)\n",
    "DatasetDict({'train': pos_only_dataset['train'], 'valid': pos_only_dataset['test']}).save_to_disk('data/single-ollie-pos-only')"
   ],
   "outputs": [],
   "metadata": {}
  }
 ],
 "metadata": {
  "orig_nbformat": 4,
  "language_info": {
   "name": "python",
   "version": "3.9",
   "mimetype": "text/x-python",
   "codemirror_mode": {
    "name": "ipython",
    "version": 3
   },
   "pygments_lexer": "ipython3",
   "nbconvert_exporter": "python",
   "file_extension": ".py"
  },
  "kernelspec": {
   "name": "python3",
   "display_name": "Python 3.9  ('FWD': conda)"
  },
  "interpreter": {
   "hash": "5e687002bc60377ae87b855adfe470e827b4be244d7382e97081511de02b6558"
  }
 },
 "nbformat": 4,
 "nbformat_minor": 2
}
