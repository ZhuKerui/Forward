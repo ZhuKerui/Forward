{
 "cells": [
  {
   "cell_type": "code",
   "execution_count": 4,
   "source": [
    "import json\n",
    "import sys\n",
    "\n",
    "sys.path.append('..')\n",
    "from tools.TextProcessing import batched_sent_tokenize, clean_text\n",
    "from tools.BasicUtils import my_write"
   ],
   "outputs": [],
   "metadata": {}
  },
  {
   "cell_type": "markdown",
   "source": [
    "<h2> Process sentences"
   ],
   "metadata": {}
  },
  {
   "cell_type": "code",
   "execution_count": null,
   "source": [
    "# Extract sentence from small corpus (2 minute)\n",
    "j = json.load(open('../data/raw_data/small_arxiv.json', 'r'))\n",
    "sents = [clean_text(i['abstract']) for i in j]\n",
    "sents = batched_sent_tokenize(sents)\n",
    "my_write('../data/corpus/small_sent.txt', sents)"
   ],
   "outputs": [],
   "metadata": {}
  },
  {
   "cell_type": "code",
   "execution_count": 6,
   "source": [
    "# Extract sentence from big corpus (7 minute)\n",
    "sents = [clean_text(json.loads(line)['abstract']) for line in open('../data/raw_data/big_arxiv.json', 'r')]\n",
    "sents = batched_sent_tokenize(sents)\n",
    "my_write('../data/corpus/big_sent.txt', sents)"
   ],
   "outputs": [],
   "metadata": {}
  }
 ],
 "metadata": {
  "interpreter": {
   "hash": "5e687002bc60377ae87b855adfe470e827b4be244d7382e97081511de02b6558"
  },
  "kernelspec": {
   "name": "python3",
   "display_name": "Python 3.9.6 64-bit ('FWD': conda)"
  },
  "language_info": {
   "name": "python",
   "version": "3.9.6",
   "mimetype": "text/x-python",
   "codemirror_mode": {
    "name": "ipython",
    "version": 3
   },
   "pygments_lexer": "ipython3",
   "nbconvert_exporter": "python",
   "file_extension": ".py"
  },
  "metadata": {
   "interpreter": {
    "hash": "31f2aee4e71d21fbe5cf8b01ff0e069b9275f58929596ceb00d14d90e3e16cd6"
   }
  },
  "orig_nbformat": 2
 },
 "nbformat": 4,
 "nbformat_minor": 2
}