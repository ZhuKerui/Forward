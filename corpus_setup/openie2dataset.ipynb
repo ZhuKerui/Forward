{
 "cells": [
  {
   "cell_type": "code",
   "execution_count": 1,
   "source": [
    "import json\n",
    "import csv\n",
    "from typing import List\n",
    "import sys\n",
    "\n",
    "sys.path.append('..')\n",
    "from tools.OpenIEUtils import processed_file_reader, openie_my_map\n",
    "from tools.BasicUtils import my_write, my_csv_read"
   ],
   "outputs": [],
   "metadata": {}
  },
  {
   "cell_type": "code",
   "execution_count": null,
   "source": [
    "read_list = processed_file_reader('../data/raw_data/TupleInfKB/4thGradeOpenIE.txt')"
   ],
   "outputs": [],
   "metadata": {}
  },
  {
   "cell_type": "code",
   "execution_count": null,
   "source": [
    "def reform_result(sub_list:List[str]):\n",
    "    if len(sub_list) <= 1:\n",
    "        return None\n",
    "    sentence = sub_list[0].strip()\n",
    "    triples = []\n",
    "    for line in sub_list[1:]:\n",
    "        score_, tuple_ = line.split(' ', 1)\n",
    "        score_ = float(score_)\n",
    "        try:\n",
    "            ent1, rel, ent2 = tuple_.strip('()').split('; ')\n",
    "            triples.append((score_, ent1, rel, ent2))\n",
    "        except:\n",
    "            continue\n",
    "    if len(triples) == 0:\n",
    "        return None\n",
    "    return {'sentence' : sentence, 'triples' : triples}\n",
    "\n",
    "reformed_result = openie_my_map(read_list, reform_result)\n",
    "informative_result = [result for result in reformed_result if result is not None]\n",
    "uninformative_sents = [read_list[i][0] for i in range(len(reformed_result)) if reformed_result[i] is None]\n",
    "my_write('../data/corpus/openie_bad.txt', uninformative_sents)\n",
    "json.dump(informative_result, open('../data/corpus/openie_triples.json', 'w'))"
   ],
   "outputs": [],
   "metadata": {}
  },
  {
   "cell_type": "code",
   "execution_count": 2,
   "source": [
    "triples_TupleInfKB = json.load(open('../data/corpus/openie_triples.json'))"
   ],
   "outputs": [],
   "metadata": {}
  },
  {
   "cell_type": "code",
   "execution_count": 5,
   "source": [
    "triples_TupleInfKB[:3]"
   ],
   "outputs": [
    {
     "output_type": "execute_result",
     "data": {
      "text/plain": [
       "[{'sentence': '002.27 Erosion is the wearing away of the land surface by water, wind, ice, or other geologic agents and by such processes as gravitational creep.',\n",
       "  'triples': [[0.96,\n",
       "    '002.27 Erosion',\n",
       "    'is',\n",
       "    'the wearing away of the land surface by water, wind, ice, or other geologic agents and by such processes as gravitational creep']]},\n",
       " {'sentence': '002.31A Hardland Grassland is a term commonly used to distinguish the silty and clayey grassland areas from those of the sandy grassland areas.',\n",
       "  'triples': [[0.92,\n",
       "    '002.31A Hardland Grassland',\n",
       "    'is',\n",
       "    'a term commonly used to distinguish the silty and clayey grassland areas from those of the sandy grassland areas'],\n",
       "   [0.85,\n",
       "    'a term',\n",
       "    'commonly used',\n",
       "    'to distinguish the silty and clayey grassland areas from those of the sandy grassland areas']]},\n",
       " {'sentence': '.007 THROWING OBJECTS FROM BICYCLE: No object shall be thrown from a moving or stationary bicycle.',\n",
       "  'triples': [[0.9,\n",
       "    'No object',\n",
       "    'shall be thrown',\n",
       "    'from a moving or stationary bicycle']]}]"
      ]
     },
     "metadata": {},
     "execution_count": 5
    }
   ],
   "metadata": {}
  },
  {
   "cell_type": "code",
   "execution_count": 10,
   "source": [
    "# reverb dataset\n",
    "file_in = open('../data/raw_data/reverb_wikipedia_tuples-1.1.txt', 'rb')\n",
    "triples = []\n",
    "for line in file_in:\n",
    "    item = line.replace(b'\\0', b'').decode('utf-8').split('\\t')\n",
    "    triples.append((item[4], item[5], item[6]))"
   ],
   "outputs": [],
   "metadata": {}
  },
  {
   "cell_type": "code",
   "execution_count": 12,
   "source": [
    "t_check = [item for item in triples if 'python' in item[0] or 'python' in item[2]]"
   ],
   "outputs": [],
   "metadata": {}
  },
  {
   "cell_type": "code",
   "execution_count": 14,
   "source": [
    "t_check"
   ],
   "outputs": [
    {
     "output_type": "execute_result",
     "data": {
      "text/plain": [
       "[('a problem', 'occur in', 'a python script'),\n",
       " ('burmese python', 'find in', 'refuge'),\n",
       " ('cobra', 'be similar to', 'python'),\n",
       " ('cobra', 'be also similar to', 'python'),\n",
       " ('converge', 'be syntactically similar to', 'python'),\n",
       " ('duck typing', 'be heavily use in', 'python'),\n",
       " ('example', 'include', 'python'),\n",
       " ('galaxy', 'be write mostly in', 'python'),\n",
       " ('idle', 'be an integrated development environment for', 'python'),\n",
       " ('ironpython', 'make extensive use of', 'reflection'),\n",
       " ('ironpython', 'be write entirely in', 'c#'),\n",
       " ('jinja', 'be a template engine for', 'the python programming language'),\n",
       " ('mnemosyne', 'be write in', 'python'),\n",
       " (\"monty python 's flying circus\", 'premiere on', 'bbc1'),\n",
       " ('nvda', 'be program in', 'python'),\n",
       " ('numpy', 'be an extension to', 'the python programming language'),\n",
       " ('portage', 'be write in', 'the python programming language'),\n",
       " ('psiphon', 'be originally implement in', 'python'),\n",
       " ('python', 'also have support for', 'metaclass'),\n",
       " ('python', 'be already include on', 'mac os x'),\n",
       " ('python', 'have a broad range of', 'basic datum type'),\n",
       " ('python', 'act as', 'a shell'),\n",
       " ('python', 'do not have', 'closure'),\n",
       " ('python', 'support a wide variety of', 'string operation'),\n",
       " ('python 2.0', 'be release on', '16 october 2000'),\n",
       " ('python 2.1', 'be close to', 'python 1.6.1'),\n",
       " ('python 2.5.1', 'be recommend for', 'new installation'),\n",
       " ('python 3.0', 'be release on', 'december 3 , 2008'),\n",
       " ('python binding', 'be provide use', 'swig.'),\n",
       " ('trac', 'be write in', 'the python programming language'),\n",
       " ('widget', 'have be write in', 'python')]"
      ]
     },
     "metadata": {},
     "execution_count": 14
    }
   ],
   "metadata": {}
  }
 ],
 "metadata": {
  "orig_nbformat": 4,
  "language_info": {
   "name": "python",
   "version": "3.9.6",
   "mimetype": "text/x-python",
   "codemirror_mode": {
    "name": "ipython",
    "version": 3
   },
   "pygments_lexer": "ipython3",
   "nbconvert_exporter": "python",
   "file_extension": ".py"
  },
  "kernelspec": {
   "name": "python3",
   "display_name": "Python 3.9.6 64-bit ('FWD': conda)"
  },
  "interpreter": {
   "hash": "5e687002bc60377ae87b855adfe470e827b4be244d7382e97081511de02b6558"
  }
 },
 "nbformat": 4,
 "nbformat_minor": 2
}