{
 "metadata": {
  "language_info": {
   "codemirror_mode": {
    "name": "ipython",
    "version": 3
   },
   "file_extension": ".py",
   "mimetype": "text/x-python",
   "name": "python",
   "nbconvert_exporter": "python",
   "pygments_lexer": "ipython3",
   "version": "3.8.5"
  },
  "orig_nbformat": 2,
  "kernelspec": {
   "name": "python385jvsc74a57bd04033c654fc41e470161c6cbd496d2b56b501d872b08405a074c2669fd9b813c6",
   "display_name": "Python 3.8.5 64-bit ('Forward': virtualenvwrapper)"
  },
  "metadata": {
   "interpreter": {
    "hash": "4033c654fc41e470161c6cbd496d2b56b501d872b08405a074c2669fd9b813c6"
   }
  }
 },
 "nbformat": 4,
 "nbformat_minor": 2,
 "cells": [
  {
   "cell_type": "code",
   "execution_count": 1,
   "metadata": {},
   "outputs": [],
   "source": [
    "import torch"
   ]
  }
 ]
}